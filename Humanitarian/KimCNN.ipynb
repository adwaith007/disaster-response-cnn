{
  "nbformat": 4,
  "nbformat_minor": 0,
  "metadata": {
    "colab": {
      "name": "KimCNN.ipynb",
      "provenance": [],
      "collapsed_sections": []
    },
    "kernelspec": {
      "display_name": "Python 3",
      "name": "python3"
    },
    "accelerator": "GPU"
  },
  "cells": [
    {
      "cell_type": "code",
      "metadata": {
        "colab": {
          "base_uri": "https://localhost:8080/"
        },
        "id": "LkYOJmxmJ2pQ",
        "outputId": "6f370249-9f1e-4cb6-e4aa-63b83768cbae"
      },
      "source": [
        "from google.colab import drive\n",
        " \n",
        "drive.mount('/content/gdrive')"
      ],
      "execution_count": 1,
      "outputs": [
        {
          "output_type": "stream",
          "text": [
            "Mounted at /content/gdrive\n"
          ],
          "name": "stdout"
        }
      ]
    },
    {
      "cell_type": "code",
      "metadata": {
        "id": "lVfbg6pWv7o_"
      },
      "source": [
        "!pip3 install transformers"
      ],
      "execution_count": null,
      "outputs": []
    },
    {
      "cell_type": "code",
      "metadata": {
        "colab": {
          "base_uri": "https://localhost:8080/"
        },
        "id": "36GiLe3tUEw7",
        "outputId": "8741fea4-b0bb-4159-f004-a1053e6e424b"
      },
      "source": [
        "import torch\n",
        "device = torch.device('cuda' if torch.cuda.is_available() else 'cpu')\n",
        "device"
      ],
      "execution_count": 1,
      "outputs": [
        {
          "output_type": "execute_result",
          "data": {
            "text/plain": [
              "device(type='cuda')"
            ]
          },
          "metadata": {
            "tags": []
          },
          "execution_count": 1
        }
      ]
    },
    {
      "cell_type": "code",
      "metadata": {
        "id": "6wwc4P3iJ-C0"
      },
      "source": [
        "import pandas as pd\n",
        "import matplotlib.pyplot as plt\n",
        "from transformers import AdamW, get_linear_schedule_with_warmup\n",
        "import re \n",
        "import numpy as np \n",
        "import torch\n",
        "from torch.utils.data import TensorDataset, Dataset, DataLoader\n",
        "import torch.nn as nn\n",
        "import torch.nn.functional as F\n",
        "from torch.autograd import Variable\n",
        "from torchvision import models\n",
        "from sklearn.metrics import classification_report\n",
        "from collections import Counter\n",
        "from collections import defaultdict\n",
        "from gensim.models import KeyedVectors"
      ],
      "execution_count": 2,
      "outputs": []
    },
    {
      "cell_type": "code",
      "metadata": {
        "id": "WKue_-UPEyQV"
      },
      "source": [
        "def label_to_target(text):\n",
        "  if text == \"not_humanitarian\":\n",
        "    return 0\n",
        "  elif text == \"infrastructure_and_utility_damage\":\n",
        "    return 1\n",
        "  elif text == \"other_relevant_information\":\n",
        "    return 2\n",
        "  elif text == \"rescue_volunteering_or_donation_effort\":\n",
        "    return 3\n",
        "  elif text == \"affected_individuals\":\n",
        "    return 4\n",
        "\n",
        "\n",
        "df_train = pd.read_csv(\"./gdrive/MyDrive/Models/train_processed.tsv\", sep='\\t')\n",
        "df_train = df_train[['tweet_text', 'label_text']]\n",
        "df_train = df_train.sample(frac=1, random_state = 24).reset_index(drop=True)\n",
        "df_train['label_text'] = df_train['label_text'].apply(label_to_target)\n",
        "\n",
        "\n",
        "\n",
        "df_val = pd.read_csv(\"./gdrive/MyDrive/Models/val_processed.tsv\", sep='\\t')\n",
        "df_val = df_val[['tweet_text', 'label_text']]\n",
        "df_val = df_val.sample(frac=1, random_state = 24).reset_index(drop=True)\n",
        "df_val['label_text'] = df_val['label_text'].apply(label_to_target)\n",
        "\n",
        "df_test = pd.read_csv(\"./gdrive/MyDrive/Models/test_processed.tsv\", sep='\\t')\n",
        "df_test = df_test[['tweet_text', 'label_text']]\n",
        "df_test = df_test.sample(frac=1, random_state = 24).reset_index(drop=True)\n",
        "df_test['label_text'] = df_test['label_text'].apply(label_to_target)"
      ],
      "execution_count": 3,
      "outputs": []
    },
    {
      "cell_type": "code",
      "metadata": {
        "id": "568kP1-2E4PC"
      },
      "source": [
        "weights = KeyedVectors.load_word2vec_format('/content/gdrive/MyDrive/crisisNLP_word2vec_model/crisisNLP_word_vector.bin', binary=True)\n",
        "weights = torch.FloatTensor(weights.vectors)"
      ],
      "execution_count": 4,
      "outputs": []
    },
    {
      "cell_type": "code",
      "metadata": {
        "id": "lMSghDbajV4b"
      },
      "source": [
        "class DisasterTweetDataset(Dataset):\n",
        "\n",
        "  def __init__(self, tweets, targets):\n",
        "    self.tweets = tweets\n",
        "    self.targets = targets  \n",
        "  def __len__(self):\n",
        "    return len(self.tweets)\n",
        "\n",
        "  def __getitem__(self, item):\n",
        "    tweet = self.tweets[item]\n",
        "    target = self.targets[item]\n",
        "\n",
        "    tweet = tweet.split(\",\")\n",
        "    tweet = list(map(int, tweet))\n",
        "\n",
        "    return {\n",
        "      'input_ids': torch.tensor(tweet),\n",
        "      'targets': torch.tensor(target, dtype=torch.long)\n",
        "    }\n",
        "\n",
        "def create_data_loader(df, batch_size):\n",
        "  ds = DisasterTweetDataset(\n",
        "    tweets=df.tweet_text.to_numpy(),\n",
        "    targets=df.label_text.to_numpy()\n",
        "  )\n",
        "\n",
        "  return DataLoader(\n",
        "    ds,\n",
        "    batch_size=batch_size,\n",
        "    num_workers=2\n",
        "  )"
      ],
      "execution_count": 5,
      "outputs": []
    },
    {
      "cell_type": "code",
      "metadata": {
        "id": "VkI4V6vvErsc"
      },
      "source": [
        "class kimCNN(nn.Module):\n",
        "    \"\"\"\n",
        "    The embedding layer + CNN model that will be used to perform analysis.\n",
        "    \"\"\"\n",
        "\n",
        "    def __init__(self, weights, vocab_size, output_size, embedding_dim, num_filters=100, kernel_sizes=[3, 4, 5], freeze_embeddings=True):\n",
        "        \"\"\"\n",
        "        Initialize the model by setting up the layers.\n",
        "        \"\"\"\n",
        "        super(kimCNN, self).__init__()\n",
        "\n",
        "        # set class vars\n",
        "        self.num_filters = num_filters\n",
        "        self.embedding_dim = embedding_dim\n",
        "        \n",
        "        self.embedding = nn.Embedding.from_pretrained(weights)\n",
        "        print(self.embedding)\n",
        "        \n",
        "        if freeze_embeddings:\n",
        "            self.embedding.requires_grad = False\n",
        "        \n",
        "        self.x = nn.Conv2d(1,300, (5, embedding_dim))\n",
        "        self.x_relu = nn.ReLU()\n",
        "        self.x_pool = nn.MaxPool2d((MAX_SEQUENCE_LENGTH - 5 + 1, 1))\n",
        "        \n",
        "        self.y = nn.Conv2d(1,300, (4, embedding_dim))\n",
        "        self.y_relu = nn.ReLU()\n",
        "        self.y_pool = nn.MaxPool2d((MAX_SEQUENCE_LENGTH - 4 + 1, 1))\n",
        "\n",
        "\n",
        "        self.z = nn.Conv2d(1,300, (3, embedding_dim))\n",
        "        self.z_relu = nn.ReLU()\n",
        "        self.z_pool = nn.MaxPool2d((MAX_SEQUENCE_LENGTH - 3 + 1, 1))\n",
        "\n",
        "        self.z1 = nn.Conv2d(1,300, (2, embedding_dim))\n",
        "        self.z1_relu = nn.ReLU()\n",
        "        self.z1_pool = nn.MaxPool2d((MAX_SEQUENCE_LENGTH - 2 + 1, 1))\n",
        "\n",
        "        self.w1 = nn.Conv2d(1,300, (1, embedding_dim))\n",
        "        self.w1_relu = nn.ReLU()\n",
        "        self.w1_pool = nn.MaxPool2d((MAX_SEQUENCE_LENGTH - 1 + 1, 1))\n",
        "\n",
        "\n",
        "        self.relu_1 = nn.ReLU()\n",
        "        self.dropout_1 = nn.Dropout(0.02)\n",
        "        self.fc_1 = nn.Linear(1500, 100)\n",
        "        self.relu_2 = nn.ReLU()\n",
        "        self.fc_2 = nn.Linear(100, 50)\n",
        "        self.relu_3 = nn.ReLU()\n",
        "        self.fc_3 = nn.Linear(50, 5)\n",
        "        self.softmax = nn.LogSoftmax(dim=1)\n",
        "\n",
        "\n",
        "    def forward(self, x):\n",
        "        \"\"\"\n",
        "        Defines how a batch of inputs, x, passes through the model layers.\n",
        "        Returns a single, sigmoid-activated class score as output.\n",
        "        \"\"\"\n",
        "\n",
        "        # embedded vectors\n",
        "        embeds1 = self.embedding(x) # (batch_size, seq_length, embedding_dim)\n",
        "        # embeds.unsqueeze(1) creates a channel dimension that conv layers expect\n",
        "        embeds2 = embeds1.unsqueeze(1)\n",
        "\n",
        "        x_out = self.x(embeds2)\n",
        "        x_relu_out = self.x_relu(x_out)\n",
        "        x_pool_out = self.x_pool(x_relu_out)\n",
        "\n",
        "        y_out = self.y(embeds2)\n",
        "        y_relu_out = self.y_relu(y_out)\n",
        "        y_pool_out = self.y_pool(y_relu_out)\n",
        "\n",
        "        z_out = self.z(embeds2)\n",
        "        z_relu_out = self.z_relu(z_out)\n",
        "        z_pool_out = self.z_pool(z_relu_out)\n",
        "\n",
        "        z1_out = self.z1(embeds2)\n",
        "        z1_relu_out = self.z1_relu(z1_out)\n",
        "        z1_pool_out = self.z1_pool(z1_relu_out)\n",
        "\n",
        "        w1_out = self.w1(embeds2)\n",
        "        w1_relu_out = self.w1_relu(w1_out)\n",
        "        w1_pool_out = self.w1_pool(w1_relu_out)\n",
        "\n",
        "        merged_output1 = torch.cat((x_pool_out, y_pool_out, z_pool_out, z1_pool_out, w1_pool_out), dim=1)\n",
        "        merged_output2 = torch.squeeze(merged_output1,3)\n",
        "        merged_output3 = torch.squeeze(merged_output2,2)\n",
        "        #print(merged_output.size())\n",
        "\n",
        "        relu1_out = self.relu_1(merged_output3)\n",
        "\n",
        "        dropout1_out = self.dropout_1(relu1_out)\n",
        "        fc1_out = self.fc_1(dropout1_out)\n",
        "        \n",
        "        relu2_out = self.relu_2(fc1_out)\n",
        "        fc2_out = self.fc_2(relu2_out)\n",
        "\n",
        "        relu3_out = self.relu_3(fc2_out)\n",
        "        fc3_out = self.fc_3(relu3_out)\n",
        "\n",
        "        probas = self.softmax(fc3_out)\n",
        "\n",
        "        return probas\n"
      ],
      "execution_count": 6,
      "outputs": []
    },
    {
      "cell_type": "code",
      "metadata": {
        "colab": {
          "base_uri": "https://localhost:8080/"
        },
        "id": "iU_85zYGR_DU",
        "outputId": "5b4c168d-83d0-4c37-c982-2b64f3f84427"
      },
      "source": [
        "# Instantiate the model w/ hyperparams\n",
        "\n",
        "vocab_size = 2152854 #len(pretrained_words)\n",
        "output_size = 1 # binary class (1 or 0)\n",
        "embedding_dim = 300 #len(embed_lookup[pretrained_words[0]])\n",
        "num_filters = 512\n",
        "kernel_sizes = [2, 3, 4]\n",
        "MAX_SEQUENCE_LENGTH = 25\n",
        "\n",
        "batch_size = 128\n",
        "EPOCHS = 300\n",
        "\n",
        "train_data_loader = create_data_loader(df_train, batch_size)\n",
        "val_data_loader = create_data_loader(df_val, batch_size)\n",
        "test_data_loader = create_data_loader(df_test, batch_size)\n",
        "\n",
        "model = kimCNN(weights, vocab_size, output_size, embedding_dim, num_filters, kernel_sizes)\n",
        "model = model.to(device)\n",
        "\n",
        "loss_fn = nn.CrossEntropyLoss().to(device)\n",
        "optimizer = AdamW(model.parameters(), lr=0.00001)\n",
        "total_steps = len(train_data_loader) * EPOCHS\n",
        "scheduler = get_linear_schedule_with_warmup(\n",
        "  optimizer,\n",
        "  num_warmup_steps=0,\n",
        "  num_training_steps=total_steps\n",
        ")\n",
        "\n",
        "# optimizer = torch.optim.Adam(model.parameters(), lr=0.00001, betas=(0.9, 0.999))\n",
        "# scheduler = torch.optim.lr_scheduler.ReduceLROnPlateau(optimizer, mode='max', factor=0.1, patience=10, min_lr=0, verbose=False)\n",
        "\n"
      ],
      "execution_count": 10,
      "outputs": [
        {
          "output_type": "stream",
          "text": [
            "Embedding(2152854, 300)\n"
          ],
          "name": "stdout"
        }
      ]
    },
    {
      "cell_type": "code",
      "metadata": {
        "id": "zOxVqO83GQ8T"
      },
      "source": [
        "def train_epoch(model, data_loader, loss_fn, optimizer,scheduler, device, n_examples):\n",
        "  model = model.train()\n",
        "\n",
        "  losses = []\n",
        "  correct_predictions = 0\n",
        "  \n",
        "  for d in data_loader:\n",
        "    input_ids = d[\"input_ids\"].to(device)\n",
        "    targets = d[\"targets\"].long() \n",
        "    targets = targets.to(device)\n",
        "\n",
        "    outputs = model(x=input_ids)\n",
        "\n",
        "\n",
        "    loss = loss_fn(outputs, targets)\n",
        "\n",
        "    correct_predictions += torch.sum(torch.max(outputs, dim=1).indices == targets) \n",
        "    losses.append(loss.item())\n",
        "\n",
        "    loss.backward()\n",
        "    nn.utils.clip_grad_norm_(model.parameters(), max_norm=1.0)\n",
        "    optimizer.step()\n",
        "    scheduler.step()\n",
        "    optimizer.zero_grad()\n",
        "\n",
        "  return correct_predictions.double() / n_examples, np.mean(losses)\n",
        "\n",
        "def eval_model(model, data_loader, loss_fn, device, n_examples):\n",
        "  model = model.eval()\n",
        "\n",
        "  losses = []\n",
        "  correct_predictions = 0\n",
        "\n",
        "  with torch.no_grad():\n",
        "    for d in data_loader:\n",
        "      input_ids = d[\"input_ids\"].to(device)\n",
        "      targets = d[\"targets\"].long()\n",
        "      targets = targets.to(device)\n",
        "\n",
        "      outputs = model(x=input_ids)\n",
        "      # print(outputs, targets)\n",
        "\n",
        "      loss = loss_fn(outputs, targets)\n",
        "\n",
        "      correct_predictions += torch.sum(torch.max(outputs, dim=1).indices == targets)\n",
        "      losses.append(loss.item())\n",
        "\n",
        "  return correct_predictions.double() / n_examples, np.mean(losses)"
      ],
      "execution_count": 11,
      "outputs": []
    },
    {
      "cell_type": "code",
      "metadata": {
        "colab": {
          "base_uri": "https://localhost:8080/"
        },
        "id": "IWeP0P6yGOhN",
        "outputId": "2f0e4954-24ae-4992-ebab-a7b6e7446df7"
      },
      "source": [
        "# history = defaultdict(list)\n",
        "# start_epoch = 0\n",
        "# best_accuracy = -1\n",
        "\n",
        "checkpoint = torch.load(\"./gdrive/MyDrive/Models/KimCNN/checkpoint.t7\")\n",
        "model.load_state_dict(checkpoint['state_dict'])\n",
        "optimizer.load_state_dict(checkpoint['optimizer'])\n",
        "start_epoch = checkpoint['epoch']\n",
        "\n",
        "print(start_epoch)\n",
        "\n",
        "\n",
        "# for epoch in range(EPOCHS):\n",
        "\n",
        "#   print(f'Epoch {start_epoch + epoch + 1}/{start_epoch + EPOCHS}')\n",
        "#   print('-' * 10)\n",
        "\n",
        "#   train_acc, train_loss = train_epoch(\n",
        "#     model,\n",
        "#     train_data_loader,    \n",
        "#     loss_fn, \n",
        "#     optimizer,\n",
        "#     scheduler, \n",
        "#     device, \n",
        "#     len(df_train)\n",
        "#   )\n",
        "\n",
        "#   print(f'Train loss {train_loss} accuracy {train_acc}')\n",
        "\n",
        "#   val_acc, val_loss = eval_model(\n",
        "#     model,\n",
        "#     val_data_loader,\n",
        "#     loss_fn, \n",
        "#     device, \n",
        "#     len(df_val)\n",
        "#   )\n",
        "\n",
        "#   # scheduler.step(val_acc)\n",
        "\n",
        "#   print(f'Val   loss {val_loss} accuracy {val_acc}')\n",
        "#   print()\n",
        "\n",
        "#   history['train_acc'].append(train_acc)\n",
        "#   history['train_loss'].append(train_loss)\n",
        "#   history['val_acc'].append(val_acc)\n",
        "#   history['val_loss'].append(val_loss)\n",
        "\n",
        "#   if val_acc > best_accuracy:\n",
        "#     state = {\n",
        "#             'best_accuracy': val_acc,\n",
        "#             'epoch': start_epoch+epoch+1,\n",
        "#             'state_dict': model.state_dict(),\n",
        "#             'optimizer': optimizer.state_dict(),\n",
        "#     }\n",
        "#     savepath= \"./gdrive/MyDrive/Models/KimCNN/checkpoint.t7\"\n",
        "#     torch.save(state,savepath)\n",
        "#     best_accuracy = val_acc\n",
        "\n",
        "# state = {\n",
        "#         'epoch': start_epoch + EPOCHS,\n",
        "#         'state_dict': model.state_dict(),\n",
        "#         'optimizer': optimizer.state_dict(),\n",
        "# }\n",
        "# savepath= \"./gdrive/MyDrive/Models/KimCNN/checkpoint-{}.t7\".format(start_epoch + EPOCHS)\n",
        "# torch.save(state,savepath)\n",
        "\n",
        "# plt.plot(history['train_acc'], label='train accuracy')\n",
        "# plt.plot(history['val_acc'], label='validation accuracy')\n",
        "\n",
        "# plt.title('Training history')\n",
        "# plt.ylabel('Accuracy')\n",
        "# plt.xlabel('Epoch')\n",
        "# plt.legend()\n",
        "# plt.ylim([0, 1]);"
      ],
      "execution_count": 14,
      "outputs": [
        {
          "output_type": "stream",
          "text": [
            "251\n"
          ],
          "name": "stdout"
        }
      ]
    },
    {
      "cell_type": "code",
      "metadata": {
        "id": "CGFmTSaxYMw-"
      },
      "source": [
        "state = {\n",
        "        'epoch': start_epoch + EPOCHS,\n",
        "        'state_dict': model.state_dict(),\n",
        "        'optimizer': optimizer.state_dict(),\n",
        "}\n",
        "savepath= \"./gdrive/MyDrive/Models/KimCNN/checkpoint-{}.t7\".format(start_epoch + EPOCHS)\n",
        "torch.save(state,savepath)"
      ],
      "execution_count": null,
      "outputs": []
    },
    {
      "cell_type": "code",
      "metadata": {
        "colab": {
          "base_uri": "https://localhost:8080/",
          "height": 295
        },
        "id": "wTzhGWp12XdE",
        "outputId": "020a8459-4fc5-4dfd-8457-8879a713726a"
      },
      "source": [
        "plt.plot(history['train_acc'], label='train accuracy')\n",
        "plt.plot(history['val_acc'], label='validation accuracy')\n",
        "\n",
        "plt.title('Training history')\n",
        "plt.ylabel('Accuracy')\n",
        "plt.xlabel('Epoch')\n",
        "plt.legend()\n",
        "plt.ylim([0, 1]);"
      ],
      "execution_count": null,
      "outputs": [
        {
          "output_type": "display_data",
          "data": {
            "image/png": "[encoded data removed]",
            "text/plain": [
              "<Figure size 432x288 with 1 Axes>"
            ]
          },
          "metadata": {
            "tags": [],
            "needs_background": "light"
          }
        }
      ]
    },
    {
      "cell_type": "code",
      "metadata": {
        "id": "OVh1s2cLCahH",
        "colab": {
          "base_uri": "https://localhost:8080/"
        },
        "outputId": "3c139c00-51ee-4ddb-ba1d-99f9b50994ef"
      },
      "source": [
        "def get_predictions(model, data_loader):\n",
        "  model = model.eval()\n",
        "  \n",
        "  predictions = []\n",
        "  real_values = []\n",
        "\n",
        "  with torch.no_grad():\n",
        "    for d in data_loader:\n",
        "\n",
        "      input_ids = d[\"input_ids\"].to(device)\n",
        "      targets = d[\"targets\"].long()\n",
        "      targets = targets.to(device)\n",
        "\n",
        "      outputs = model(\n",
        "        x=input_ids,\n",
        "      )\n",
        "      preds = torch.max(outputs, dim=1).indices\n",
        "\n",
        "\n",
        "      predictions.extend(preds)\n",
        "      real_values.extend(targets)\n",
        "\n",
        "  predictions = torch.stack(predictions).cpu()\n",
        "  real_values = torch.stack(real_values).cpu()\n",
        "  return predictions, real_values\n",
        "\n",
        "y_pred, y_test = get_predictions(\n",
        "  model,\n",
        "  test_data_loader\n",
        ")\n",
        "\n",
        "print(classification_report(y_test, y_pred, target_names=['not_humanitarian', 'infrastructure_and_utility_damage', 'other_relevant_information', 'rescue_volunteering_or_donation_effort', 'affected_individuals'], digits = 4))"
      ],
      "execution_count": 15,
      "outputs": [
        {
          "output_type": "stream",
          "text": [
            "                                        precision    recall  f1-score   support\n",
            "\n",
            "                      not_humanitarian     0.7039    0.8869    0.7849       504\n",
            "     infrastructure_and_utility_damage     0.7451    0.4691    0.5758        81\n",
            "            other_relevant_information     0.7118    0.5149    0.5975       235\n",
            "rescue_volunteering_or_donation_effort     0.7475    0.5873    0.6578       126\n",
            "                  affected_individuals     0.0000    0.0000    0.0000         9\n",
            "\n",
            "                              accuracy                         0.7120       955\n",
            "                             macro avg     0.5817    0.4916    0.5232       955\n",
            "                          weighted avg     0.7085    0.7120    0.6969       955\n",
            "\n"
          ],
          "name": "stdout"
        },
        {
          "output_type": "stream",
          "text": [
            "/usr/local/lib/python3.7/dist-packages/sklearn/metrics/_classification.py:1272: UndefinedMetricWarning: Precision and F-score are ill-defined and being set to 0.0 in labels with no predicted samples. Use `zero_division` parameter to control this behavior.\n",
            "  _warn_prf(average, modifier, msg_start, len(result))\n"
          ],
          "name": "stderr"
        }
      ]
    }
  ]
}